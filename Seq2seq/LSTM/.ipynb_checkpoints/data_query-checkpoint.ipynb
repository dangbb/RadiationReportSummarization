{
 "cells": [
  {
   "cell_type": "code",
   "execution_count": 1,
   "id": "legislative-automation",
   "metadata": {},
   "outputs": [
    {
     "data": {
      "text/html": [
       "<div>\n",
       "<style scoped>\n",
       "    .dataframe tbody tr th:only-of-type {\n",
       "        vertical-align: middle;\n",
       "    }\n",
       "\n",
       "    .dataframe tbody tr th {\n",
       "        vertical-align: top;\n",
       "    }\n",
       "\n",
       "    .dataframe thead th {\n",
       "        text-align: right;\n",
       "    }\n",
       "</style>\n",
       "<table border=\"1\" class=\"dataframe\">\n",
       "  <thead>\n",
       "    <tr style=\"text-align: right;\">\n",
       "      <th></th>\n",
       "      <th>Unnamed: 0</th>\n",
       "      <th>study_id</th>\n",
       "      <th>subject_id</th>\n",
       "      <th>findings</th>\n",
       "      <th>impression</th>\n",
       "      <th>background</th>\n",
       "    </tr>\n",
       "  </thead>\n",
       "  <tbody>\n",
       "    <tr>\n",
       "      <th>0</th>\n",
       "      <td>0</td>\n",
       "      <td>58832226</td>\n",
       "      <td>11148901</td>\n",
       "      <td>The heart is normal in size. The mediastinal a...</td>\n",
       "      <td>No evidence of acute disease.</td>\n",
       "      <td>CHEST RADIOGRAPHS HISTORY: Chest pain. COMPARI...</td>\n",
       "    </tr>\n",
       "    <tr>\n",
       "      <th>1</th>\n",
       "      <td>0</td>\n",
       "      <td>52876267</td>\n",
       "      <td>11648038</td>\n",
       "      <td>Frontal and lateral views of the chest were ob...</td>\n",
       "      <td>Slight pulmonary vascular congestion without p...</td>\n",
       "      <td>INDICATION: ___-year-old female with dyspnea. ...</td>\n",
       "    </tr>\n",
       "    <tr>\n",
       "      <th>2</th>\n",
       "      <td>0</td>\n",
       "      <td>50334688</td>\n",
       "      <td>11179382</td>\n",
       "      <td>The cardiac silhouette and pulmonary vasculatu...</td>\n",
       "      <td>No definite mass identified. Bibasilar opaciti...</td>\n",
       "      <td>EXAMINATION: CHEST (PA AND LAT) INDICATION: Hi...</td>\n",
       "    </tr>\n",
       "    <tr>\n",
       "      <th>3</th>\n",
       "      <td>0</td>\n",
       "      <td>56898500</td>\n",
       "      <td>11759245</td>\n",
       "      <td>ET tube terminates 29 mm above the carina. Tra...</td>\n",
       "      <td>Increased bibasilar opacities could be due to ...</td>\n",
       "      <td>INDICATION: ___ year old woman with schizophre...</td>\n",
       "    </tr>\n",
       "    <tr>\n",
       "      <th>4</th>\n",
       "      <td>0</td>\n",
       "      <td>58825745</td>\n",
       "      <td>11759245</td>\n",
       "      <td>Right PICC ends in the lower SVC. NG tube term...</td>\n",
       "      <td>Probable, new right lower lobe pneumonia.</td>\n",
       "      <td>EXAMINATION: Chest radiograph INDICATION: ___-...</td>\n",
       "    </tr>\n",
       "  </tbody>\n",
       "</table>\n",
       "</div>"
      ],
      "text/plain": [
       "   Unnamed: 0  study_id  subject_id  \\\n",
       "0           0  58832226    11148901   \n",
       "1           0  52876267    11648038   \n",
       "2           0  50334688    11179382   \n",
       "3           0  56898500    11759245   \n",
       "4           0  58825745    11759245   \n",
       "\n",
       "                                            findings  \\\n",
       "0  The heart is normal in size. The mediastinal a...   \n",
       "1  Frontal and lateral views of the chest were ob...   \n",
       "2  The cardiac silhouette and pulmonary vasculatu...   \n",
       "3  ET tube terminates 29 mm above the carina. Tra...   \n",
       "4  Right PICC ends in the lower SVC. NG tube term...   \n",
       "\n",
       "                                          impression  \\\n",
       "0                      No evidence of acute disease.   \n",
       "1  Slight pulmonary vascular congestion without p...   \n",
       "2  No definite mass identified. Bibasilar opaciti...   \n",
       "3  Increased bibasilar opacities could be due to ...   \n",
       "4          Probable, new right lower lobe pneumonia.   \n",
       "\n",
       "                                          background  \n",
       "0  CHEST RADIOGRAPHS HISTORY: Chest pain. COMPARI...  \n",
       "1  INDICATION: ___-year-old female with dyspnea. ...  \n",
       "2  EXAMINATION: CHEST (PA AND LAT) INDICATION: Hi...  \n",
       "3  INDICATION: ___ year old woman with schizophre...  \n",
       "4  EXAMINATION: Chest radiograph INDICATION: ___-...  "
      ]
     },
     "execution_count": 1,
     "metadata": {},
     "output_type": "execute_result"
    }
   ],
   "source": [
    "import pandas as pd\n",
    "import matplotlib.pyplot as plt\n",
    "\n",
    "path = \"E:\\\\MachineLearning\\\\Study\\\\RadiationReportSummarization\\\\Dataset\\\\train.csv\"\n",
    "\n",
    "df = pd.read_csv(path, header=0)\n",
    "\n",
    "df.head()"
   ]
  },
  {
   "cell_type": "code",
   "execution_count": 6,
   "id": "every-contractor",
   "metadata": {},
   "outputs": [
    {
     "name": "stdout",
     "output_type": "stream",
     "text": [
      "5088\n"
     ]
    }
   ],
   "source": [
    "print(df[df['impression']=='No evidence of acute disease.'].size)"
   ]
  },
  {
   "cell_type": "code",
   "execution_count": 10,
   "id": "solar-kuwait",
   "metadata": {},
   "outputs": [],
   "source": [
    "impression_dict = dict()\n",
    "\n",
    "for cmt in df['impression']:\n",
    "    if cmt not in impression_dict:\n",
    "        impression_dict[cmt] = 1\n",
    "    else:\n",
    "        impression_dict[cmt] += 1"
   ]
  },
  {
   "cell_type": "code",
   "execution_count": 17,
   "id": "useful-joseph",
   "metadata": {},
   "outputs": [
    {
     "ename": "SyntaxError",
     "evalue": "EOL while scanning string literal (<ipython-input-17-8bf1edd89f51>, line 5)",
     "output_type": "error",
     "traceback": [
      "\u001b[1;36m  File \u001b[1;32m\"<ipython-input-17-8bf1edd89f51>\"\u001b[1;36m, line \u001b[1;32m5\u001b[0m\n\u001b[1;33m    dtf.to_csv(\"E:\\\\MachineLearning\\\\Study\\\\RadiationReportSummarization\\\\Dataset\\\\examinate.csv)\u001b[0m\n\u001b[1;37m                                                                                                 ^\u001b[0m\n\u001b[1;31mSyntaxError\u001b[0m\u001b[1;31m:\u001b[0m EOL while scanning string literal\n"
     ]
    }
   ],
   "source": [
    "dtf = []\n",
    "for i, (key, val) in enumerate(impression_dict.items()):\n",
    "    dtf.append([key, val])\n",
    "dtf = pd.DataFrame(dtf)\n",
    "dtf.to_csv(\"E:\\\\MachineLearning\\\\Study\\\\RadiationReportSummarization\\\\Dataset\\\\examinate.csv)"
   ]
  },
  {
   "cell_type": "code",
   "execution_count": null,
   "id": "innovative-kentucky",
   "metadata": {},
   "outputs": [],
   "source": []
  },
  {
   "cell_type": "code",
   "execution_count": null,
   "id": "stock-quebec",
   "metadata": {},
   "outputs": [],
   "source": []
  },
  {
   "cell_type": "code",
   "execution_count": null,
   "id": "loose-murray",
   "metadata": {},
   "outputs": [],
   "source": []
  }
 ],
 "metadata": {
  "kernelspec": {
   "display_name": "Python 3",
   "language": "python",
   "name": "python3"
  },
  "language_info": {
   "codemirror_mode": {
    "name": "ipython",
    "version": 3
   },
   "file_extension": ".py",
   "mimetype": "text/x-python",
   "name": "python",
   "nbconvert_exporter": "python",
   "pygments_lexer": "ipython3",
   "version": "3.7.1"
  }
 },
 "nbformat": 4,
 "nbformat_minor": 5
}
